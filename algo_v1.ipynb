{
 "cells": [
  {
   "cell_type": "code",
   "execution_count": 49,
   "metadata": {},
   "outputs": [],
   "source": [
    "import pandas as pd\n",
    "import numpy as np\n",
    "import matplotlib.pyplot as plt\n",
    "from sklearn.model_selection import train_test_split\n",
    "from sklearn.linear_model import LogisticRegression\n",
    "from sklearn.linear_model import LinearRegression\n",
    "from sklearn.preprocessing import StandardScaler\n",
    "from sklearn.metrics import classification_report, confusion_matrix\n",
    "from sklearn.neighbors import KNeighborsClassifier\n",
    "from mlxtend.frequent_patterns import apriori\n",
    "from mlxtend.frequent_patterns import association_rules"
   ]
  },
  {
   "cell_type": "code",
   "execution_count": 2,
   "metadata": {},
   "outputs": [],
   "source": [
    "# Read xls file with manufacturer recommended maintenances and save it to csv\n",
    "data_xls = pd.read_excel('DB_v1.xlsx')\n",
    "data_xls.to_csv('DB_v1.csv', encoding='utf-8',index=False)\n",
    "df0 = pd.read_csv('DB_v1.csv')"
   ]
  },
  {
   "cell_type": "code",
   "execution_count": 3,
   "metadata": {},
   "outputs": [],
   "source": [
    "# One hot encoding for fuel type and services/parts changed\n",
    "manuf_df = pd.get_dummies(df0, prefix='', prefix_sep='', columns=['fuel','part_serv_name'])"
   ]
  },
  {
   "cell_type": "code",
   "execution_count": 4,
   "metadata": {},
   "outputs": [
    {
     "data": {
      "text/plain": [
       "Index(['date_time', 'brand', 'model', 'year', 'trim', 'engine_displ',\n",
       "       'transmission_type', 'doors', 'body_var', 'license_plate', 'km',\n",
       "       'unit_price', 'quant', 'total_price', 'currency', 'country',\n",
       "       'state_shop', 'city_shop', 'neighborhood_shop', 'zip_shop', 'name_shop',\n",
       "       'data_type', 'Diesel', 'Flex', 'A/C cabin filter', 'Brake fluid',\n",
       "       'Clutch fluid', 'Engine air filter', 'Engine oil', 'Engine oil filter',\n",
       "       'Fuel filter', 'Spark plug', 'Timing belt', 'Timing belt tensioner',\n",
       "       'Transmission fluid', 'Utilities belt'],\n",
       "      dtype='object')"
      ]
     },
     "execution_count": 4,
     "metadata": {},
     "output_type": "execute_result"
    }
   ],
   "source": [
    "manuf_df.columns"
   ]
  },
  {
   "cell_type": "code",
   "execution_count": 5,
   "metadata": {},
   "outputs": [],
   "source": [
    "# Dropping some columns that will not be used at the moment\n",
    "manuf_df = manuf_df[['brand', 'model', 'year', 'trim', 'engine_displ',\n",
    "       'transmission_type', 'doors', 'body_var', 'km','country',\n",
    "       'Diesel', 'Flex', 'A/C cabin filter', 'Brake fluid',\n",
    "       'Clutch fluid', 'Engine air filter', 'Engine oil', 'Engine oil filter',\n",
    "       'Fuel filter', 'Spark plug', 'Timing belt', 'Timing belt tensioner',\n",
    "       'Transmission fluid', 'Utilities belt']]"
   ]
  },
  {
   "cell_type": "code",
   "execution_count": 6,
   "metadata": {},
   "outputs": [],
   "source": [
    "# Grouping by specific maintenance occurrences (ex: brand, vehicle and trim at 10kkm) \n",
    "manuf_df = manuf_df.groupby(by=['brand', 'model', 'year', 'trim', 'engine_displ',\n",
    "       'transmission_type', 'doors', 'body_var', 'km', 'country', 'Diesel', 'Flex']).sum().reset_index()"
   ]
  },
  {
   "cell_type": "code",
   "execution_count": 7,
   "metadata": {},
   "outputs": [],
   "source": [
    "# renaming and dropping some columns for manual data\n",
    "manuf_df = manuf_df.rename(columns={'Diesel':'diesel', 'Flex':'flex',\n",
    "       'A/C cabin filter':'ac_cabin_filter', 'Brake fluid':'brake_fluid', 'Clutch fluid':'clutch_fluid',\n",
    "                          'Engine air filter':'air_filter','Engine oil':'engine_oil',\n",
    "                          'Engine oil filter':'engine_oil_filter',\n",
    "                          'Fuel filter':'fuel_filter',\n",
    "                          'Spark plug':'spark_plug',\n",
    "                          'Timing belt':'timing_belt',\n",
    "                          'Timing belt tensioner':'timing_belt_tensioner',\n",
    "                          'Transmission fluid':'transmission_fluid',\n",
    "                          'Utilities belt':'utilities_belt'})"
   ]
  },
  {
   "cell_type": "code",
   "execution_count": 20,
   "metadata": {},
   "outputs": [
    {
     "data": {
      "text/plain": [
       "Index(['brand', 'model', 'year', 'trim', 'engine_displ', 'transmission_type',\n",
       "       'doors', 'body_var', 'km', 'country', 'diesel', 'flex',\n",
       "       'ac_cabin_filter', 'brake_fluid', 'clutch_fluid', 'air_filter',\n",
       "       'engine_oil', 'engine_oil_filter', 'fuel_filter', 'spark_plug',\n",
       "       'timing_belt', 'timing_belt_tensioner', 'transmission_fluid',\n",
       "       'utilities_belt'],\n",
       "      dtype='object')"
      ]
     },
     "execution_count": 20,
     "metadata": {},
     "output_type": "execute_result"
    }
   ],
   "source": [
    "manuf_df.columns"
   ]
  },
  {
   "cell_type": "code",
   "execution_count": 8,
   "metadata": {},
   "outputs": [],
   "source": [
    "# Reading real world maintenance data from kaggle\n",
    "# available at https://www.kaggle.com/navins7/vehicle-maintenance-record?select=Vehicle+Maintenance-+Standard+Components+Cost.csv\n",
    "real_df = pd.read_csv('Vehicle_Maintenance_Service_Records.csv')"
   ]
  },
  {
   "cell_type": "code",
   "execution_count": 9,
   "metadata": {},
   "outputs": [],
   "source": [
    "# drop some that wont be needed\n",
    "real_df = real_df.drop(columns=['slno','vehicle_type','mileage_range'])\n",
    "\n",
    "# one hot encoding for fuel type\n",
    "real_df = pd.get_dummies(real_df, prefix='', prefix_sep='', columns=['engine_type'])\n",
    "\n",
    "# renaming and dropping some columns for real data\n",
    "real_df = real_df.rename(columns={'make_year': 'year', 'mileage': 'km',\n",
    "                        'air_clean_filter': 'air_filter','dust_and_pollen_filter':'ac_cabin_filter'})\n",
    "\n",
    "real_df = real_df.drop(columns={'region','whell_alignment_and_balancing'})"
   ]
  },
  {
   "cell_type": "code",
   "execution_count": 10,
   "metadata": {},
   "outputs": [
    {
     "data": {
      "text/plain": [
       "Index(['brand', 'model', 'year', 'km', 'oil_filter', 'engine_oil',\n",
       "       'washer_plug_drain', 'ac_cabin_filter', 'air_filter', 'fuel_filter',\n",
       "       'spark_plug', 'brake_fluid', 'brake_and_clutch_oil',\n",
       "       'transmission_fluid', 'brake_pads', 'clutch', 'coolant', 'cost',\n",
       "       'diesel', 'petrol'],\n",
       "      dtype='object')"
      ]
     },
     "execution_count": 10,
     "metadata": {},
     "output_type": "execute_result"
    }
   ],
   "source": [
    "real_df.columns"
   ]
  },
  {
   "cell_type": "code",
   "execution_count": 182,
   "metadata": {},
   "outputs": [],
   "source": [
    "# Trying to predict clutch changes\n",
    "X_train, X_test, y_train, y_test = train_test_split(real_df[['year', 'km', 'oil_filter', 'engine_oil','washer_plug_drain',\n",
    "                                                            'ac_cabin_filter', 'air_filter', 'fuel_filter','spark_plug',\n",
    "                                                            'brake_fluid', 'brake_and_clutch_oil','transmission_fluid',\n",
    "                                                            'brake_pads','diesel','coolant',\n",
    "                                                            'petrol']], real_df[['clutch']], test_size=0.25, random_state=42)\n",
    "\n",
    "# Scaling the data\n",
    "scaler = StandardScaler()\n",
    "scaler.fit(X_train)\n",
    "\n",
    "X_train = scaler.transform(X_train)\n",
    "X_test = scaler.transform(X_test)"
   ]
  },
  {
   "cell_type": "code",
   "execution_count": 183,
   "metadata": {},
   "outputs": [],
   "source": [
    "classifier = KNeighborsClassifier(n_neighbors=6)"
   ]
  },
  {
   "cell_type": "code",
   "execution_count": 184,
   "metadata": {},
   "outputs": [
    {
     "data": {
      "text/plain": [
       "KNeighborsClassifier(algorithm='auto', leaf_size=30, metric='minkowski',\n",
       "                     metric_params=None, n_jobs=None, n_neighbors=6, p=2,\n",
       "                     weights='uniform')"
      ]
     },
     "execution_count": 184,
     "metadata": {},
     "output_type": "execute_result"
    }
   ],
   "source": [
    "y_trainvec = np.ravel(y_train)\n",
    "classifier.fit(X_train, y_trainvec)"
   ]
  },
  {
   "cell_type": "code",
   "execution_count": 185,
   "metadata": {},
   "outputs": [],
   "source": [
    "y_pred = classifier.predict(X_test)"
   ]
  },
  {
   "cell_type": "code",
   "execution_count": 186,
   "metadata": {},
   "outputs": [
    {
     "name": "stdout",
     "output_type": "stream",
     "text": [
      "[[250   0]\n",
      " [  4  31]]\n",
      "              precision    recall  f1-score   support\n",
      "\n",
      "           0       0.98      1.00      0.99       250\n",
      "           1       1.00      0.89      0.94        35\n",
      "\n",
      "    accuracy                           0.99       285\n",
      "   macro avg       0.99      0.94      0.97       285\n",
      "weighted avg       0.99      0.99      0.99       285\n",
      "\n"
     ]
    }
   ],
   "source": [
    "print(confusion_matrix(y_test, y_pred))\n",
    "print(classification_report(y_test, y_pred))"
   ]
  },
  {
   "cell_type": "code",
   "execution_count": 181,
   "metadata": {},
   "outputs": [
    {
     "name": "stdout",
     "output_type": "stream",
     "text": [
      "Minimum error at 3 K neighbors\n"
     ]
    },
    {
     "data": {
      "text/plain": [
       "Text(0, 0.5, 'Mean Error')"
      ]
     },
     "execution_count": 181,
     "metadata": {},
     "output_type": "execute_result"
    },
    {
     "data": {
      "image/png": "[encoded data removed]",
      "text/plain": [
       "<Figure size 864x432 with 1 Axes>"
      ]
     },
     "metadata": {
      "needs_background": "light"
     },
     "output_type": "display_data"
    }
   ],
   "source": [
    "error = []\n",
    "\n",
    "# Calculating error for K values between 1 and 40\n",
    "for i in range(1, 35):\n",
    "    knn = KNeighborsClassifier(n_neighbors=i)\n",
    "    knn.fit(X_train, y_trainvec)\n",
    "    pred_i = knn.predict(X_test)\n",
    "    error.append(np.mean(pred_i != np.ravel(y_test)))\n",
    "\n",
    "print('Minimum error at', error.index(min(error))+1, 'K neighbors')\n",
    "plt.figure(figsize=(12, 6))\n",
    "plt.plot(range(1, 35), error, color='red', linestyle='dashed', marker='o',\n",
    "         markerfacecolor='blue', markersize=10)\n",
    "plt.title('Error Rate K Value')\n",
    "plt.xlabel('K Value')\n",
    "plt.ylabel('Mean Error')"
   ]
  },
  {
   "cell_type": "code",
   "execution_count": 169,
   "metadata": {},
   "outputs": [],
   "source": [
    "apriori_mask_real = ['ac_cabin_filter','fuel_filter','spark_plug', 'brake_fluid', 'brake_and_clutch_oil',\n",
    "                'transmission_fluid', 'brake_pads', 'clutch', 'coolant']"
   ]
  },
  {
   "cell_type": "code",
   "execution_count": 143,
   "metadata": {},
   "outputs": [],
   "source": [
    "apriori_df = real_df[apriori_mask_real]"
   ]
  },
  {
   "cell_type": "code",
   "execution_count": 144,
   "metadata": {},
   "outputs": [],
   "source": [
    "frequent_itemsets = apriori(apriori_df, min_support=0.1, use_colnames=True)\n",
    "frequent_itemsets['length'] = frequent_itemsets['itemsets'].apply(lambda x: len(x))"
   ]
  },
  {
   "cell_type": "code",
   "execution_count": 148,
   "metadata": {},
   "outputs": [
    {
     "data": {
      "text/plain": [
       "9"
      ]
     },
     "execution_count": 148,
     "metadata": {},
     "output_type": "execute_result"
    }
   ],
   "source": [
    "len(frequent_itemsets)"
   ]
  },
  {
   "cell_type": "code",
   "execution_count": 149,
   "metadata": {},
   "outputs": [
    {
     "data": {
      "text/html": [
       "<div>\n",
       "<style scoped>\n",
       "    .dataframe tbody tr th:only-of-type {\n",
       "        vertical-align: middle;\n",
       "    }\n",
       "\n",
       "    .dataframe tbody tr th {\n",
       "        vertical-align: top;\n",
       "    }\n",
       "\n",
       "    .dataframe thead th {\n",
       "        text-align: right;\n",
       "    }\n",
       "</style>\n",
       "<table border=\"1\" class=\"dataframe\">\n",
       "  <thead>\n",
       "    <tr style=\"text-align: right;\">\n",
       "      <th></th>\n",
       "      <th>support</th>\n",
       "      <th>itemsets</th>\n",
       "      <th>length</th>\n",
       "    </tr>\n",
       "  </thead>\n",
       "  <tbody>\n",
       "    <tr>\n",
       "      <th>0</th>\n",
       "      <td>0.279192</td>\n",
       "      <td>(ac_cabin_filter)</td>\n",
       "      <td>1</td>\n",
       "    </tr>\n",
       "    <tr>\n",
       "      <th>1</th>\n",
       "      <td>0.287094</td>\n",
       "      <td>(fuel_filter)</td>\n",
       "      <td>1</td>\n",
       "    </tr>\n",
       "    <tr>\n",
       "      <th>2</th>\n",
       "      <td>0.151888</td>\n",
       "      <td>(brake_fluid)</td>\n",
       "      <td>1</td>\n",
       "    </tr>\n",
       "    <tr>\n",
       "      <th>3</th>\n",
       "      <td>0.134328</td>\n",
       "      <td>(brake_and_clutch_oil)</td>\n",
       "      <td>1</td>\n",
       "    </tr>\n",
       "    <tr>\n",
       "      <th>4</th>\n",
       "      <td>0.142230</td>\n",
       "      <td>(transmission_fluid)</td>\n",
       "      <td>1</td>\n",
       "    </tr>\n",
       "    <tr>\n",
       "      <th>5</th>\n",
       "      <td>0.141352</td>\n",
       "      <td>(brake_pads)</td>\n",
       "      <td>1</td>\n",
       "    </tr>\n",
       "    <tr>\n",
       "      <th>6</th>\n",
       "      <td>0.132572</td>\n",
       "      <td>(clutch)</td>\n",
       "      <td>1</td>\n",
       "    </tr>\n",
       "    <tr>\n",
       "      <th>7</th>\n",
       "      <td>0.159789</td>\n",
       "      <td>(ac_cabin_filter, fuel_filter)</td>\n",
       "      <td>2</td>\n",
       "    </tr>\n",
       "    <tr>\n",
       "      <th>8</th>\n",
       "      <td>0.118525</td>\n",
       "      <td>(transmission_fluid, brake_fluid)</td>\n",
       "      <td>2</td>\n",
       "    </tr>\n",
       "  </tbody>\n",
       "</table>\n",
       "</div>"
      ],
      "text/plain": [
       "    support                           itemsets  length\n",
       "0  0.279192                  (ac_cabin_filter)       1\n",
       "1  0.287094                      (fuel_filter)       1\n",
       "2  0.151888                      (brake_fluid)       1\n",
       "3  0.134328             (brake_and_clutch_oil)       1\n",
       "4  0.142230               (transmission_fluid)       1\n",
       "5  0.141352                       (brake_pads)       1\n",
       "6  0.132572                           (clutch)       1\n",
       "7  0.159789     (ac_cabin_filter, fuel_filter)       2\n",
       "8  0.118525  (transmission_fluid, brake_fluid)       2"
      ]
     },
     "execution_count": 149,
     "metadata": {},
     "output_type": "execute_result"
    }
   ],
   "source": [
    "frequent_itemsets"
   ]
  },
  {
   "cell_type": "code",
   "execution_count": 150,
   "metadata": {},
   "outputs": [
    {
     "data": {
      "text/html": [
       "<div>\n",
       "<style scoped>\n",
       "    .dataframe tbody tr th:only-of-type {\n",
       "        vertical-align: middle;\n",
       "    }\n",
       "\n",
       "    .dataframe tbody tr th {\n",
       "        vertical-align: top;\n",
       "    }\n",
       "\n",
       "    .dataframe thead th {\n",
       "        text-align: right;\n",
       "    }\n",
       "</style>\n",
       "<table border=\"1\" class=\"dataframe\">\n",
       "  <thead>\n",
       "    <tr style=\"text-align: right;\">\n",
       "      <th></th>\n",
       "      <th>antecedents</th>\n",
       "      <th>consequents</th>\n",
       "      <th>antecedent support</th>\n",
       "      <th>consequent support</th>\n",
       "      <th>support</th>\n",
       "      <th>confidence</th>\n",
       "      <th>lift</th>\n",
       "      <th>leverage</th>\n",
       "      <th>conviction</th>\n",
       "    </tr>\n",
       "  </thead>\n",
       "  <tbody>\n",
       "    <tr>\n",
       "      <th>0</th>\n",
       "      <td>(transmission_fluid)</td>\n",
       "      <td>(brake_fluid)</td>\n",
       "      <td>0.14223</td>\n",
       "      <td>0.151888</td>\n",
       "      <td>0.118525</td>\n",
       "      <td>0.833333</td>\n",
       "      <td>5.486513</td>\n",
       "      <td>0.096922</td>\n",
       "      <td>5.088674</td>\n",
       "    </tr>\n",
       "  </tbody>\n",
       "</table>\n",
       "</div>"
      ],
      "text/plain": [
       "            antecedents    consequents  antecedent support  \\\n",
       "0  (transmission_fluid)  (brake_fluid)             0.14223   \n",
       "\n",
       "   consequent support   support  confidence      lift  leverage  conviction  \n",
       "0            0.151888  0.118525    0.833333  5.486513  0.096922    5.088674  "
      ]
     },
     "execution_count": 150,
     "metadata": {},
     "output_type": "execute_result"
    }
   ],
   "source": [
    "rules = association_rules(frequent_itemsets)\n",
    "rules"
   ]
  }
 ],
 "metadata": {
  "kernelspec": {
   "display_name": "Python 3",
   "language": "python",
   "name": "python3"
  },
  "language_info": {
   "codemirror_mode": {
    "name": "ipython",
    "version": 3
   },
   "file_extension": ".py",
   "mimetype": "text/x-python",
   "name": "python",
   "nbconvert_exporter": "python",
   "pygments_lexer": "ipython3",
   "version": "3.7.6"
  }
 },
 "nbformat": 4,
 "nbformat_minor": 4
}
